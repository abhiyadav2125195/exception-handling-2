{
 "cells": [
  {
   "cell_type": "markdown",
   "id": "d9a050af-95b3-4671-bde0-a3bff76e5b55",
   "metadata": {},
   "source": [
    "# Q1. Explain why we have to use the Exception class while creating a Custom Exception."
   ]
  },
  {
   "cell_type": "markdown",
   "id": "ed250c05-011b-4f1c-aee4-9d64c533266e",
   "metadata": {},
   "source": [
    "### Standardization and compatibility: Inheriting from the Exception class ensures that your custom exception follows the standard exception hierarchy and structure defined by the programming language.\n",
    "### Exception handling: The Exception class provides essential functionality for exception handling, such as capturing and reporting stack traces, handling nested exceptions, and providing useful error messages\n",
    "### Language-specific features: Many programming languages offer specific features and utilities for working with exceptions. By using the base Exception class, your custom exception can leverage these language-specific features. "
   ]
  },
  {
   "cell_type": "markdown",
   "id": "ec4b8fc4-cbb2-4b86-a55f-eb78ed94f16f",
   "metadata": {},
   "source": [
    "# Q2. Write a python program to print Python Exception Hierarchy."
   ]
  },
  {
   "cell_type": "code",
   "execution_count": null,
   "id": "2054a320-1ec4-4cb9-bfe9-a576e5bfbb62",
   "metadata": {},
   "outputs": [],
   "source": [
    "exception_classes = []\n",
    "\n",
    "def add_exception_classes(exception_class):\n",
    "    exception_classes.append(exception_class)\n",
    "    for subclass in exception_class.__subclasses__():\n",
    "        add_exception_classes(subclass)\n",
    "\n",
    "# Start from the base Exception class\n",
    "add_exception_classes(Exception)\n",
    "\n",
    "for exception_class in exception_classes:\n",
    "    print(exception_class.__name__)"
   ]
  },
  {
   "cell_type": "markdown",
   "id": "796c8f01-9418-43c0-a8f1-ab93a86dec28",
   "metadata": {},
   "source": [
    "# Q3. What errors are defined in the ArithmeticError class? Explain any two with an example."
   ]
  },
  {
   "cell_type": "markdown",
   "id": "a368f63d-baff-433d-b4df-09492eca1f21",
   "metadata": {},
   "source": [
    "### The ArithmeticError class in Python is the base class for exceptions that occur during arithmetic operations. It serves as the parent class for various specific arithmetic-related error classes. Two commonly encountered errors derived from ArithmeticError are ZeroDivisionError and OverflowError.\n",
    "### zerodivisionerror observe when you try to divide any number by 0"
   ]
  },
  {
   "cell_type": "code",
   "execution_count": 2,
   "id": "b48da11f-be73-4c07-883f-a918bbe2f21d",
   "metadata": {},
   "outputs": [],
   "source": [
    "def class1 (a , b) :\n",
    "    d = a/b\n",
    "    return d"
   ]
  },
  {
   "cell_type": "code",
   "execution_count": 4,
   "id": "26674d0b-ebba-416e-9389-7173dcb66b13",
   "metadata": {},
   "outputs": [
    {
     "ename": "ZeroDivisionError",
     "evalue": "division by zero",
     "output_type": "error",
     "traceback": [
      "\u001b[0;31m---------------------------------------------------------------------------\u001b[0m",
      "\u001b[0;31mZeroDivisionError\u001b[0m                         Traceback (most recent call last)",
      "Cell \u001b[0;32mIn[4], line 1\u001b[0m\n\u001b[0;32m----> 1\u001b[0m \u001b[43mclass1\u001b[49m\u001b[43m(\u001b[49m\u001b[38;5;241;43m1\u001b[39;49m\u001b[43m,\u001b[49m\u001b[38;5;241;43m0\u001b[39;49m\u001b[43m)\u001b[49m\n\u001b[1;32m      2\u001b[0m \u001b[38;5;66;03m# this is a ex of zerodivsionerror\u001b[39;00m\n",
      "Cell \u001b[0;32mIn[2], line 2\u001b[0m, in \u001b[0;36mclass1\u001b[0;34m(a, b)\u001b[0m\n\u001b[1;32m      1\u001b[0m \u001b[38;5;28;01mdef\u001b[39;00m \u001b[38;5;21mclass1\u001b[39m (a , b) :\n\u001b[0;32m----> 2\u001b[0m     d \u001b[38;5;241m=\u001b[39m \u001b[43ma\u001b[49m\u001b[38;5;241;43m/\u001b[39;49m\u001b[43mb\u001b[49m\n\u001b[1;32m      3\u001b[0m     \u001b[38;5;28;01mreturn\u001b[39;00m d\n",
      "\u001b[0;31mZeroDivisionError\u001b[0m: division by zero"
     ]
    }
   ],
   "source": [
    "class1(1,0)\n",
    "# this is a ex of zerodivsionerror"
   ]
  },
  {
   "cell_type": "markdown",
   "id": "04e580df-995f-4a34-ad94-0173e4ba6463",
   "metadata": {},
   "source": [
    "### OverflowError: This error occurs when the result of an arithmetic operation exceeds the maximum representable value for a numeric type."
   ]
  },
  {
   "cell_type": "code",
   "execution_count": 14,
   "id": "0a5d6df2-6e6a-463b-966a-7065b69609f8",
   "metadata": {},
   "outputs": [],
   "source": [
    "\n",
    "    \n",
    "num = 9999999999999999999999999999999\n",
    "try :\n",
    "     result =  num*num\n",
    "\n",
    "except OverflowError as e :\n",
    "    print(\"Error: Number is too large to represent\")"
   ]
  },
  {
   "cell_type": "markdown",
   "id": "c55b8006-c6af-4649-b860-ea065ad909af",
   "metadata": {},
   "source": [
    "# Q4. Why LookupError class is used? Explain with an example KeyError and IndexError."
   ]
  },
  {
   "cell_type": "markdown",
   "id": "0c112c11-3eaf-4e27-81fb-d3de09f02b2b",
   "metadata": {},
   "source": [
    "### The LookupError class in Python is a base class for exceptions that occur when a lookup or retrieval operation fails.\n",
    "### Hierarchical organization: The LookupError class establishes a hierarchical structure for lookup-related exceptions. By having a common base class, it allows for a consistent and organized way of handling lookup errors.\n",
    "### Exception handling: The LookupError class provides a convenient way to catch and handle lookup errors in a generic manner.\n",
    "### Code readability and clarity: By using the LookupError class, it enhances the readability and clarity of code.\n",
    "### "
   ]
  },
  {
   "cell_type": "code",
   "execution_count": 30,
   "id": "3cb8294c-7fbf-4808-89e0-b5ed47d52145",
   "metadata": {},
   "outputs": [
    {
     "name": "stdout",
     "output_type": "stream",
     "text": [
      "'key2'\n"
     ]
    }
   ],
   "source": [
    "# key error\n",
    "try :\n",
    "    d = {\"name\" : (\"abhi\" , \"subh\" , \"ram\")}\n",
    "    print(d[\"key2\"])\n",
    "    \n",
    "except Exception as e :\n",
    "    print( e)\n",
    "     "
   ]
  },
  {
   "cell_type": "code",
   "execution_count": 33,
   "id": "2bc774e8-0ea0-404b-977b-62c23b96bbdf",
   "metadata": {},
   "outputs": [
    {
     "ename": "IndentationError",
     "evalue": "expected an indented block after 'try' statement on line 2 (3564601151.py, line 3)",
     "output_type": "error",
     "traceback": [
      "\u001b[0;36m  Cell \u001b[0;32mIn[35], line 3\u001b[0;36m\u001b[0m\n\u001b[0;31m    d = [1,2,3,4,5,6]\u001b[0m\n\u001b[0m    ^\u001b[0m\n\u001b[0;31mIndentationError\u001b[0m\u001b[0;31m:\u001b[0m expected an indented block after 'try' statement on line 2\n"
     ]
    }
   ],
   "source": [
    "# indexing error\n",
    "try :\n",
    "d = [1,2,3,4,5,6]\n",
    "\n",
    "#if i write out of index then it showing indexing error\n",
    " d[6]\n",
    "\n",
    "except IndexError as e :\n",
    "    print(e)\n",
    "    "
   ]
  },
  {
   "cell_type": "markdown",
   "id": "76890d0d-5978-4fd5-9617-7d674dd5b38d",
   "metadata": {},
   "source": [
    "# Q5. Explain ImportError. What is ModuleNotFoundError?"
   ]
  },
  {
   "cell_type": "markdown",
   "id": "bfa441a9-fcef-4995-8bea-0091ade631a4",
   "metadata": {},
   "source": [
    "### ImportError: This exception is raised when an import statement encounters a general issue during the import process. It can be raised in various situations, such as when the specified module does not exist, there is a problem with the module's code, or there are circular dependencies between modules.\n",
    "\n",
    "### ModuleNotFoundError: This exception is a subclass of ImportError and is raised specifically when a module cannot be found or imported. It typically occurs when the module name specified in the import statement is incorrect or does not exist in the search paths Python uses to locate modules."
   ]
  },
  {
   "cell_type": "code",
   "execution_count": 38,
   "id": "fad80540-2bf5-4c3f-b1be-1d4331a27de8",
   "metadata": {},
   "outputs": [
    {
     "name": "stdout",
     "output_type": "stream",
     "text": [
      "No module named 'abhishek'\n"
     ]
    }
   ],
   "source": [
    "try :\n",
    "    \n",
    "    import abhishek\n",
    "except ImportError as e :\n",
    "    print(e)\n",
    "\n"
   ]
  },
  {
   "cell_type": "markdown",
   "id": "67f88bbb-6d95-45ad-b42e-dec55680b125",
   "metadata": {},
   "source": [
    "# Q6. List down some best practices for exception handling in python."
   ]
  },
  {
   "cell_type": "markdown",
   "id": "4d8d3b12-1bba-49c5-81bc-814b5fe962b3",
   "metadata": {},
   "source": [
    "## use always a specific exception\n",
    "## print always a proper message\n",
    "## always avoid to write a multiple exception handlog\n",
    "## document all the error\n",
    "## cleanup all the resources"
   ]
  },
  {
   "cell_type": "code",
   "execution_count": null,
   "id": "a6959054-159c-4d8c-85db-1cac324b8099",
   "metadata": {},
   "outputs": [],
   "source": []
  }
 ],
 "metadata": {
  "kernelspec": {
   "display_name": "Python 3 (ipykernel)",
   "language": "python",
   "name": "python3"
  },
  "language_info": {
   "codemirror_mode": {
    "name": "ipython",
    "version": 3
   },
   "file_extension": ".py",
   "mimetype": "text/x-python",
   "name": "python",
   "nbconvert_exporter": "python",
   "pygments_lexer": "ipython3",
   "version": "3.10.8"
  }
 },
 "nbformat": 4,
 "nbformat_minor": 5
}
